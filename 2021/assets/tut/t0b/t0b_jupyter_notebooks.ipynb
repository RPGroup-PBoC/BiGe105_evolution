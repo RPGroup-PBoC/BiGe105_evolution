{
 "cells": [
  {
   "cell_type": "markdown",
   "metadata": {},
   "source": [
    "# Tutorial 0b: Using Jupyter Notebooks"
   ]
  },
  {
   "cell_type": "markdown",
   "metadata": {},
   "source": [
    "© 2020 Griffin Chure and Vahe Galstyan. This work is licensed under a [Creative Commons Attribution License CC-BY 4.0](https://creativecommons.org/licenses/by/4.0/). All code contained herein is licensed under an [MIT license](https://opensource.org/licenses/MIT) "
   ]
  },
  {
   "cell_type": "markdown",
   "metadata": {},
   "source": [
    "--- "
   ]
  },
  {
   "cell_type": "markdown",
   "metadata": {},
   "source": [
    "##  What is a Jupyter notebook?"
   ]
  },
  {
   "cell_type": "markdown",
   "metadata": {},
   "source": [
    "[Jupyter](http://jupyter.org) is browser-based system to write code, math, and text in the same document such that you can clearly explain the concepts and practices used you your program. Jupyter is not only for Python, but can be used with R, Juila, MATLAB, and about 35 other languages as of this writing. All files are saved as a [JSON](http://www.json.org) formatted text file with the extension `.ipynb`. For homework in this class, you will send this text file via email to the TAs. \n",
    "\n",
    "This tutorial assumes that you have followed [Tutorial 0a: Setting Up Python](http://www.rpgroup.caltech.edu/aph161/assets/tut/t0a/t0a_setting_up_python.html), which covers how to launch a Jupyter Notebook from JupyterLab."
   ]
  },
  {
   "cell_type": "markdown",
   "metadata": {},
   "source": [
    "##  Writing code"
   ]
  },
  {
   "cell_type": "markdown",
   "metadata": {},
   "source": [
    "All code you write in the notebook will be in the code cell. You can write single lines, to entire loops, to complete functions. As an example, we can write and evaluate a print statement in a code cell, as is shown below. To exectue the code, we can simply hit `shift + enter` while our cursor is in the code cell.  "
   ]
  },
  {
   "cell_type": "code",
   "execution_count": 1,
   "metadata": {},
   "outputs": [
    {
     "name": "stdout",
     "output_type": "stream",
     "text": [
      "Hello! This is the print function. Python will print this line below\n"
     ]
    }
   ],
   "source": [
    "# This is a comment and is not read by Python\n",
    "print('Hello! This is the print function. Python will print this line below')"
   ]
  },
  {
   "cell_type": "markdown",
   "metadata": {},
   "source": [
    "The box with the gray background contains the python code while the output is in the box with the white background. We can also write a `for loop` as an example of executing multiple lines of code at once."
   ]
  },
  {
   "cell_type": "code",
   "execution_count": 2,
   "metadata": {},
   "outputs": [
    {
     "name": "stdout",
     "output_type": "stream",
     "text": [
      "0\n",
      "2\n",
      "4\n",
      "6\n",
      "8\n"
     ]
    }
   ],
   "source": [
    "# Write a basic for loop.\n",
    "for i in range(5):\n",
    "    # Multiply the value of i by two and assign it to a variable. \n",
    "    temp_variable = 2 * i\n",
    "    \n",
    "    # Print the value of the temp variable.\n",
    "    print(temp_variable)"
   ]
  },
  {
   "cell_type": "markdown",
   "metadata": {},
   "source": [
    "[As is discussed in the Python syntax tutorial](http://www.rpgroup.caltech.edu/aph161/assets/tut/t0c/t0c_python_syntax_and_plotting.html), we often must import modules to get scientific power out of our programs. Import statements work in these cells as well. For example, we can import multiple modules at once that we will use to make a plot.\n"
   ]
  },
  {
   "cell_type": "code",
   "execution_count": 5,
   "metadata": {},
   "outputs": [],
   "source": [
    "import numpy as np\n",
    "import matplotlib.pyplot as plt\n",
    "%matplotlib inline\n",
    "\n",
    "import seaborn as sns\n",
    "sns.set() # This line sets the style through seaborn to make the plot look nicer. "
   ]
  },
  {
   "cell_type": "markdown",
   "metadata": {},
   "source": [
    " As an example, we can plot again the same function as in the setup tutorial. "
   ]
  },
  {
   "cell_type": "code",
   "execution_count": 6,
   "metadata": {},
   "outputs": [
    {
     "data": {
      "image/png": "[encoded data removed]",
      "text/plain": [
       "<Figure size 432x288 with 1 Axes>"
      ]
     },
     "metadata": {},
     "output_type": "display_data"
    }
   ],
   "source": [
    "# Plot one of Griffin's favorite functions.\n",
    "x = np.linspace(-np.pi, np.pi, 500)\n",
    "y = np.sin(2 * np.sin(2 * np.sin(2 * x)))\n",
    "\n",
    "# Generate the plot.\n",
    "plt.plot(x, y)\n",
    "plt.xlabel(r'$x$', fontsize=16)\n",
    "plt.ylabel(r'$y$', fontsize=16)\n",
    "\n",
    "# Don't worry about this syntax for now.\n",
    "_ = plt.xticks([-np.pi, 0, np.pi], ['$-\\pi$', '0', '$\\pi$'], fontsize=15)"
   ]
  },
  {
   "cell_type": "markdown",
   "metadata": {},
   "source": [
    "While you could in principle write an entire script's worth of code in a single code cell, this is not wise for readability. Therefore, keep the length of what you write in code cells to a logical minimum. Write them such that the perform a single step in your analysis, then move on to the next cell. For example, it is wise to write a function in its own code cell and then execute it in another. It is reasonable, however, to have a single notebook contain all code for a single analysis, just not in a single code cell. "
   ]
  },
  {
   "cell_type": "markdown",
   "metadata": {},
   "source": [
    "###  A warning"
   ]
  },
  {
   "cell_type": "markdown",
   "metadata": {},
   "source": [
    "Code cells can be executed in any order. This means that you can overwrite your current variables by running things out of order. **When coding in notebooks, be cautions of the order in which you run cells.**"
   ]
  },
  {
   "cell_type": "markdown",
   "metadata": {},
   "source": [
    "##  Writing Text"
   ]
  },
  {
   "cell_type": "markdown",
   "metadata": {},
   "source": [
    "Arguably the most useful component of the Jupyter notebook is the ability to interweave code and explanatory text into a single, coherent document. For the purposes of this course, **all code and plots should be accompanied with explanatory text.** The only way for those of us reading your work to understand your thought process depends on your explanation.\n",
    "\n",
    "Each cell in a Jupyter notebook can exist either as a code cell or as text-formatting cell called a **markdown** cell. [Markdown](https://daringfireball.net/projects/markdown/syntax) is a mark-up language that very easily converts to other typesetting formats such as HTML and PDF. You can [find a cheat sheet here](https://github.com/adam-p/markdown-here/wiki/Markdown-Cheatsheet). \n",
    "\n",
    "Whenever you make a new cell, it's default assignment will be a `code` cell. This means when you want to write text, you will need to specifically change it to a markdown cell. You can do this by clicking on the drop-down menu that reads `code` and selecting 'Markdown'. You can then type in the code cell and all Python syntax highlighting will be removed. The basics of Markdown (nearly all you will need to know can be summarized by typing the following lines into a markdown cell. \n",
    "\n",
    "\n",
    "```\n",
    "**This part of the sentence will be bold**, *this part italic*, [this part a link](http://www.google.com), and \n",
    "* This part a \n",
    "    + bulleted\n",
    "        - list\n",
    "```\n",
    "\n",
    "These lines yield the following output:\n",
    "\n",
    "\n",
    "**This part of the sentence will be bold**, *this part italic*, [this part a link](http://www.google.com), and \n",
    "* This part a \n",
    "    + bulleted\n",
    "        - list\n"
   ]
  },
  {
   "cell_type": "markdown",
   "metadata": {},
   "source": [
    "Mathematics can be typeset using the [LaTeX typesetting language](https://www.latex-project.org/) within markdown cells. For example, typing \n",
    "\n",
    "```\n",
    "$$\n",
    "\\int\\limits_{-\\infty}^{\\infty}e^{-\\alpha x^2} dx = {\\sqrt{\\pi}\\over{\\alpha}}\n",
    "$$\n",
    "```\n",
    "into a markdown cell is rendered as \n",
    "\n",
    "$$\n",
    "\\int\\limits_{-\\infty}^{\\infty}e^{-\\alpha x^2} dx = {\\sqrt{\\pi\\over{\\alpha}}}\n",
    "$$\n",
    "\n",
    "which is the infamous gaussian integral. Typsetting math in this manner is not required for the course. If mastering LaTeX is too challenging, you may include **highly legible scans of your hand-written math** in the following way.\n",
    "\n",
    "```\n",
    "![](path/to/image/gaussian_integral.jpg)\n",
    "```\n",
    "\n",
    "The above line yields the following image.\n",
    "\n",
    "<center>\n",
    "    <img src=\"gaussian_integral.png\" width=\"25%\">\n",
    "</center>\n",
    "\n",
    "Note that this image must also be included in your homework submission email."
   ]
  },
  {
   "cell_type": "markdown",
   "metadata": {},
   "source": [
    "## Saving, quitting, and going home"
   ]
  },
  {
   "cell_type": "markdown",
   "metadata": {},
   "source": [
    "Jupyter notebooks are set up to autosave your work every 15 or so minutes. However, you should not rely on the autosave feature! Save your work frequently by clicking on the floppy disk icon located in the upper left-hand  corner of the toolbar.\n",
    "\n",
    "To navigate back to the root of your Jupyter notebook server, you can click on the Jupyter logo at any time.\n",
    "\n",
    "\n",
    "To quit your Jupyter notebook, you can simply close the browser window and Anaconda Navigator. "
   ]
  },
  {
   "cell_type": "markdown",
   "metadata": {},
   "source": [
    "## Converting to HTML and PDF"
   ]
  },
  {
   "cell_type": "markdown",
   "metadata": {},
   "source": [
    "To convert Jupyter notebooks to highly-portable formats such as HTML and PDF, you can either use the dropdown menu option `File -> download as -> ...` or via the command line by using the following lines:\n",
    "\n",
    "```\n",
    "jupyter nbconvert notebook_name.ipynb notebook_name.pdf\n",
    "```\n",
    "\n",
    "assuming you are in the same working directory as your notebooks."
   ]
  },
  {
   "cell_type": "code",
   "execution_count": null,
   "metadata": {},
   "outputs": [],
   "source": []
  }
 ],
 "metadata": {
  "anaconda-cloud": {},
  "kernelspec": {
   "display_name": "Python 3",
   "language": "python",
   "name": "python3"
  },
  "language_info": {
   "codemirror_mode": {
    "name": "ipython",
    "version": 3
   },
   "file_extension": ".py",
   "mimetype": "text/x-python",
   "name": "python",
   "nbconvert_exporter": "python",
   "pygments_lexer": "ipython3",
   "version": "3.6.8"
  }
 },
 "nbformat": 4,
 "nbformat_minor": 4
}
